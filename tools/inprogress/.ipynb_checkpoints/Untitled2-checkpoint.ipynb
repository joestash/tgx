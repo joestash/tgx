{
 "cells": [
  {
   "cell_type": "code",
   "execution_count": 2,
   "id": "9702ac0d-cce0-42af-9a5c-c4018cd7ce7f",
   "metadata": {},
   "outputs": [],
   "source": [
    "from simple_3dviz import Mesh\n",
    "from simple_3dviz.window import show\n",
    "from simple_3dviz.utils import render\n",
    "import numpy as np\n",
    "import matplotlib.pyplot as plt"
   ]
  },
  {
   "cell_type": "code",
   "execution_count": null,
   "id": "d6651e1a-5c20-4a09-8d57-9db7637d8425",
   "metadata": {},
   "outputs": [],
   "source": []
  },
  {
   "cell_type": "code",
   "execution_count": 3,
   "id": "6e68ffa5-67eb-4a0c-a66d-9ef739fe2780",
   "metadata": {},
   "outputs": [],
   "source": [
    "\n",
    "# We visualize a cone defined using vertices and faces, similar to\n",
    "# https://docs.enthought.com/mayavi/mayavi/auto/mlab_helper_functions.html#points3d\n",
    "t = np.linspace(-np.pi, np.pi, 16)\n",
    "z = np.exp(1j * t)\n",
    "x = z.real.copy()\n",
    "y = z.imag.copy()\n",
    "z = np.zeros_like(x)\n",
    " \n",
    "faces = [(0, i, i + 1) for i in range(1, 16)]\n",
    "x = np.r_[0, x]\n",
    "y = np.r_[0, y]\n",
    "z = np.r_[1, z]\n",
    "vertices = np.stack([x, y, z]).T\n",
    "colors = np.ones((len(vertices), 3))*[1.0, 0.0, 0.0]\n",
    "m = Mesh.from_faces(vertices, faces, colors=colors)"
   ]
  },
  {
   "cell_type": "code",
   "execution_count": 5,
   "id": "4e280fc5-4760-4870-b520-65fb76575b61",
   "metadata": {},
   "outputs": [],
   "source": [
    "#m = Mesh.from_file(\"spot.obj\")\n",
    "\n",
    "show(m, camera_position=(1.7, 1.7, 1.7), camera_target=(0, 0, 0),light=(60, 160, 60))\n"
   ]
  },
  {
   "cell_type": "code",
   "execution_count": null,
   "id": "2f2e8f5e-7f3c-4015-946b-b1d8cb001bfc",
   "metadata": {},
   "outputs": [],
   "source": []
  }
 ],
 "metadata": {
  "kernelspec": {
   "display_name": "Python 3 (ipykernel)",
   "language": "python",
   "name": "python3"
  },
  "language_info": {
   "codemirror_mode": {
    "name": "ipython",
    "version": 3
   },
   "file_extension": ".py",
   "mimetype": "text/x-python",
   "name": "python",
   "nbconvert_exporter": "python",
   "pygments_lexer": "ipython3",
   "version": "3.9.19"
  }
 },
 "nbformat": 4,
 "nbformat_minor": 5
}
